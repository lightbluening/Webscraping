{
 "cells": [
  {
   "cell_type": "markdown",
   "id": "407d3857",
   "metadata": {},
   "source": [
    "# Data collection \n",
    "Collecting data from https://webscraper.io/test-sites/e-commerce/static/computers/laptops\n",
    "\n",
    "There are 20 web pages where each page contains the general information (e.g., complete title, URL, price, number of reviews, rating) about computers/laptop.\n"
   ]
  },
  {
   "cell_type": "markdown",
   "id": "87f59c51",
   "metadata": {},
   "source": [
    "##  Data collection\n"
   ]
  },
  {
   "cell_type": "code",
   "execution_count": 174,
   "id": "51364e9f",
   "metadata": {},
   "outputs": [],
   "source": [
    "# import packages\n",
    "import requests\n",
    "from lxml import html\n",
    "import pandas as pd\n",
    "import csv\n",
    "import seaborn as sns\n",
    "\n",
    "%matplotlib inline\n",
    "import matplotlib.pyplot as plt"
   ]
  },
  {
   "cell_type": "code",
   "execution_count": 175,
   "id": "7e387b52",
   "metadata": {},
   "outputs": [
    {
     "name": "stdout",
     "output_type": "stream",
     "text": [
      "['Packard 255 G2'] ['/test-sites/e-commerce/static/product/516'] ['$416.99'] ['2 reviews'] ['2']\n",
      "['Aspire E1-510'] ['/test-sites/e-commerce/static/product/517'] ['$306.99'] ['2 reviews'] ['3']\n",
      "['ThinkPad T540p'] ['/test-sites/e-commerce/static/product/518'] ['$1178.99'] ['2 reviews'] ['1']\n",
      "['ProBook'] ['/test-sites/e-commerce/static/product/519'] ['$739.99'] ['8 reviews'] ['4']\n",
      "['ThinkPad X240'] ['/test-sites/e-commerce/static/product/520'] ['$1311.99'] ['12 reviews'] ['3']\n",
      "['Aspire E1-572G'] ['/test-sites/e-commerce/static/product/521'] ['$581.99'] ['2 reviews'] ['1']\n"
     ]
    }
   ],
   "source": [
    "# collect data from page 1 \n",
    "r = requests.get('https://webscraper.io/test-sites/e-commerce/static/computers/laptops')\n",
    "data = html.fromstring(r.text)\n",
    "for review in data.xpath(\"//div[@class='thumbnail']\"):\n",
    "    title = review.xpath(\"div[1]/h4/a/text()\")\n",
    "    url = review.xpath(\"div[1]/h4/a/@href\")\n",
    "    price = review.xpath(\"div[1]/h4[1]/text()\")\n",
    "    n_review=review.xpath(\"div[2]/p[1]/text()\")\n",
    "    rating=review.xpath(\"div[2]/p[2]/@data-rating\")\n",
    "    print(title,url,price,n_review,rating)"
   ]
  },
  {
   "cell_type": "code",
   "execution_count": 176,
   "id": "d28a2dcf",
   "metadata": {
    "scrolled": true
   },
   "outputs": [
    {
     "name": "stdout",
     "output_type": "stream",
     "text": [
      "https://webscraper.io/test-sites/e-commerce/static/computers/laptops/?page=1\n",
      "https://webscraper.io/test-sites/e-commerce/static/computers/laptops/?page=2\n",
      "https://webscraper.io/test-sites/e-commerce/static/computers/laptops/?page=3\n",
      "https://webscraper.io/test-sites/e-commerce/static/computers/laptops/?page=4\n",
      "https://webscraper.io/test-sites/e-commerce/static/computers/laptops/?page=5\n",
      "https://webscraper.io/test-sites/e-commerce/static/computers/laptops/?page=6\n",
      "https://webscraper.io/test-sites/e-commerce/static/computers/laptops/?page=7\n",
      "https://webscraper.io/test-sites/e-commerce/static/computers/laptops/?page=8\n",
      "https://webscraper.io/test-sites/e-commerce/static/computers/laptops/?page=9\n",
      "https://webscraper.io/test-sites/e-commerce/static/computers/laptops/?page=10\n",
      "https://webscraper.io/test-sites/e-commerce/static/computers/laptops/?page=11\n",
      "https://webscraper.io/test-sites/e-commerce/static/computers/laptops/?page=12\n",
      "https://webscraper.io/test-sites/e-commerce/static/computers/laptops/?page=13\n",
      "https://webscraper.io/test-sites/e-commerce/static/computers/laptops/?page=14\n",
      "https://webscraper.io/test-sites/e-commerce/static/computers/laptops/?page=15\n",
      "https://webscraper.io/test-sites/e-commerce/static/computers/laptops/?page=16\n",
      "https://webscraper.io/test-sites/e-commerce/static/computers/laptops/?page=17\n",
      "https://webscraper.io/test-sites/e-commerce/static/computers/laptops/?page=18\n",
      "https://webscraper.io/test-sites/e-commerce/static/computers/laptops/?page=19\n",
      "https://webscraper.io/test-sites/e-commerce/static/computers/laptops/?page=20\n"
     ]
    }
   ],
   "source": [
    "#figure out the urls for the web pages.\n",
    "web = \"https://webscraper.io/test-sites/e-commerce/static/computers/laptops/?page=%s\" \n",
    "\n",
    "# let's get the first four urls\n",
    "for page in range(1,21):\n",
    "    print(web % page)"
   ]
  },
  {
   "cell_type": "code",
   "execution_count": 177,
   "id": "9f393f37",
   "metadata": {},
   "outputs": [
    {
     "data": {
      "text/plain": [
       "117"
      ]
     },
     "execution_count": 177,
     "metadata": {},
     "output_type": "execute_result"
    }
   ],
   "source": [
    "#crawl a large data from all the pages\n",
    "finaldata=[]\n",
    "web = \"https://webscraper.io/test-sites/e-commerce/static/computers/laptops/?page=%s\" \n",
    "for page in range(1,21):\n",
    "    url = web % page\n",
    "    data = html.fromstring(requests.get(url).text)\n",
    "    \n",
    "    for review in data.xpath(\"//div[@class='thumbnail']\"):\n",
    "        title = review.xpath(\"div[1]/h4/a/text()\")\n",
    "        url = review.xpath(\"div[1]/h4/a/@href\")\n",
    "        price = review.xpath(\"div[1]/h4[1]/text()\")\n",
    "        n_review=review.xpath(\"div[2]/p[1]/text()\")\n",
    "        rating=review.xpath(\"div[2]/p[2]/@data-rating\")\n",
    "        description=review.xpath(\"div[1]/p[1]/text()\")\n",
    "        finaldata.append([title,url,price,n_review,rating,description])\n",
    "        \n",
    "len(finaldata)"
   ]
  },
  {
   "cell_type": "code",
   "execution_count": 178,
   "id": "3746dc19",
   "metadata": {},
   "outputs": [
    {
     "data": {
      "text/html": [
       "<div>\n",
       "<style scoped>\n",
       "    .dataframe tbody tr th:only-of-type {\n",
       "        vertical-align: middle;\n",
       "    }\n",
       "\n",
       "    .dataframe tbody tr th {\n",
       "        vertical-align: top;\n",
       "    }\n",
       "\n",
       "    .dataframe thead th {\n",
       "        text-align: right;\n",
       "    }\n",
       "</style>\n",
       "<table border=\"1\" class=\"dataframe\">\n",
       "  <thead>\n",
       "    <tr style=\"text-align: right;\">\n",
       "      <th></th>\n",
       "      <th>0</th>\n",
       "      <th>1</th>\n",
       "      <th>2</th>\n",
       "      <th>3</th>\n",
       "      <th>4</th>\n",
       "      <th>5</th>\n",
       "    </tr>\n",
       "  </thead>\n",
       "  <tbody>\n",
       "    <tr>\n",
       "      <th>0</th>\n",
       "      <td>[Packard 255 G2]</td>\n",
       "      <td>[/test-sites/e-commerce/static/product/516]</td>\n",
       "      <td>[$416.99]</td>\n",
       "      <td>[2 reviews]</td>\n",
       "      <td>[2]</td>\n",
       "      <td>[15.6\", AMD E2-3800 1.3GHz, 4GB, 500GB, Window...</td>\n",
       "    </tr>\n",
       "    <tr>\n",
       "      <th>1</th>\n",
       "      <td>[Aspire E1-510]</td>\n",
       "      <td>[/test-sites/e-commerce/static/product/517]</td>\n",
       "      <td>[$306.99]</td>\n",
       "      <td>[2 reviews]</td>\n",
       "      <td>[3]</td>\n",
       "      <td>[15.6\", Pentium N3520 2.16GHz, 4GB, 500GB, Linux]</td>\n",
       "    </tr>\n",
       "  </tbody>\n",
       "</table>\n",
       "</div>"
      ],
      "text/plain": [
       "                  0                                            1          2  \\\n",
       "0  [Packard 255 G2]  [/test-sites/e-commerce/static/product/516]  [$416.99]   \n",
       "1   [Aspire E1-510]  [/test-sites/e-commerce/static/product/517]  [$306.99]   \n",
       "\n",
       "             3    4                                                  5  \n",
       "0  [2 reviews]  [2]  [15.6\", AMD E2-3800 1.3GHz, 4GB, 500GB, Window...  \n",
       "1  [2 reviews]  [3]  [15.6\", Pentium N3520 2.16GHz, 4GB, 500GB, Linux]  "
      ]
     },
     "execution_count": 178,
     "metadata": {},
     "output_type": "execute_result"
    }
   ],
   "source": [
    "# convert to dataframe\n",
    "df =pd.DataFrame(finaldata) \n",
    "df.head(2)"
   ]
  },
  {
   "cell_type": "code",
   "execution_count": 179,
   "id": "7c56f7a4",
   "metadata": {
    "scrolled": false
   },
   "outputs": [
    {
     "data": {
      "text/html": [
       "<div>\n",
       "<style scoped>\n",
       "    .dataframe tbody tr th:only-of-type {\n",
       "        vertical-align: middle;\n",
       "    }\n",
       "\n",
       "    .dataframe tbody tr th {\n",
       "        vertical-align: top;\n",
       "    }\n",
       "\n",
       "    .dataframe thead th {\n",
       "        text-align: right;\n",
       "    }\n",
       "</style>\n",
       "<table border=\"1\" class=\"dataframe\">\n",
       "  <thead>\n",
       "    <tr style=\"text-align: right;\">\n",
       "      <th></th>\n",
       "      <th>0</th>\n",
       "      <th>1</th>\n",
       "      <th>2</th>\n",
       "      <th>3</th>\n",
       "      <th>4</th>\n",
       "      <th>5</th>\n",
       "    </tr>\n",
       "  </thead>\n",
       "  <tbody>\n",
       "    <tr>\n",
       "      <th>0</th>\n",
       "      <td>Packard 255 G2</td>\n",
       "      <td>/test-sites/e-commerce/static/product/516</td>\n",
       "      <td>$416.99</td>\n",
       "      <td>2 reviews</td>\n",
       "      <td>2</td>\n",
       "      <td>15.6\", AMD E2-3800 1.3GHz, 4GB, 500GB, Windows...</td>\n",
       "    </tr>\n",
       "    <tr>\n",
       "      <th>1</th>\n",
       "      <td>Aspire E1-510</td>\n",
       "      <td>/test-sites/e-commerce/static/product/517</td>\n",
       "      <td>$306.99</td>\n",
       "      <td>2 reviews</td>\n",
       "      <td>3</td>\n",
       "      <td>15.6\", Pentium N3520 2.16GHz, 4GB, 500GB, Linux</td>\n",
       "    </tr>\n",
       "    <tr>\n",
       "      <th>2</th>\n",
       "      <td>ThinkPad T540p</td>\n",
       "      <td>/test-sites/e-commerce/static/product/518</td>\n",
       "      <td>$1178.99</td>\n",
       "      <td>2 reviews</td>\n",
       "      <td>1</td>\n",
       "      <td>15.6\", Core i5-4200M, 4GB, 500GB, Win7 Pro 64bit</td>\n",
       "    </tr>\n",
       "    <tr>\n",
       "      <th>3</th>\n",
       "      <td>ProBook</td>\n",
       "      <td>/test-sites/e-commerce/static/product/519</td>\n",
       "      <td>$739.99</td>\n",
       "      <td>8 reviews</td>\n",
       "      <td>4</td>\n",
       "      <td>14\", Core i5 2.6GHz, 4GB, 500GB, Win7 Pro 64bit</td>\n",
       "    </tr>\n",
       "    <tr>\n",
       "      <th>4</th>\n",
       "      <td>ThinkPad X240</td>\n",
       "      <td>/test-sites/e-commerce/static/product/520</td>\n",
       "      <td>$1311.99</td>\n",
       "      <td>12 reviews</td>\n",
       "      <td>3</td>\n",
       "      <td>12.5\", Core i5-4300U, 8GB, 240GB SSD, Win7 Pro...</td>\n",
       "    </tr>\n",
       "  </tbody>\n",
       "</table>\n",
       "</div>"
      ],
      "text/plain": [
       "                0                                          1         2  \\\n",
       "0  Packard 255 G2  /test-sites/e-commerce/static/product/516   $416.99   \n",
       "1   Aspire E1-510  /test-sites/e-commerce/static/product/517   $306.99   \n",
       "2  ThinkPad T540p  /test-sites/e-commerce/static/product/518  $1178.99   \n",
       "3         ProBook  /test-sites/e-commerce/static/product/519   $739.99   \n",
       "4   ThinkPad X240  /test-sites/e-commerce/static/product/520  $1311.99   \n",
       "\n",
       "            3  4                                                  5  \n",
       "0   2 reviews  2  15.6\", AMD E2-3800 1.3GHz, 4GB, 500GB, Windows...  \n",
       "1   2 reviews  3    15.6\", Pentium N3520 2.16GHz, 4GB, 500GB, Linux  \n",
       "2   2 reviews  1   15.6\", Core i5-4200M, 4GB, 500GB, Win7 Pro 64bit  \n",
       "3   8 reviews  4    14\", Core i5 2.6GHz, 4GB, 500GB, Win7 Pro 64bit  \n",
       "4  12 reviews  3  12.5\", Core i5-4300U, 8GB, 240GB SSD, Win7 Pro...  "
      ]
     },
     "execution_count": 179,
     "metadata": {},
     "output_type": "execute_result"
    }
   ],
   "source": [
    "#remove brackets\n",
    "df[0]=df[0].str[0]\n",
    "df[1]=df[1].str[0]\n",
    "df[2]=df[2].str[0]\n",
    "df[3]=df[3].str[0]\n",
    "df[4]=df[4].str[0]\n",
    "df[5]=df[5].str[0]\n",
    "df.head()"
   ]
  },
  {
   "cell_type": "code",
   "execution_count": 180,
   "id": "754f0ef5",
   "metadata": {
    "scrolled": false
   },
   "outputs": [
    {
     "data": {
      "text/html": [
       "<div>\n",
       "<style scoped>\n",
       "    .dataframe tbody tr th:only-of-type {\n",
       "        vertical-align: middle;\n",
       "    }\n",
       "\n",
       "    .dataframe tbody tr th {\n",
       "        vertical-align: top;\n",
       "    }\n",
       "\n",
       "    .dataframe thead th {\n",
       "        text-align: right;\n",
       "    }\n",
       "</style>\n",
       "<table border=\"1\" class=\"dataframe\">\n",
       "  <thead>\n",
       "    <tr style=\"text-align: right;\">\n",
       "      <th></th>\n",
       "      <th>name</th>\n",
       "      <th>url</th>\n",
       "      <th>price</th>\n",
       "      <th>reviews</th>\n",
       "      <th>rating</th>\n",
       "      <th>description</th>\n",
       "    </tr>\n",
       "  </thead>\n",
       "  <tbody>\n",
       "    <tr>\n",
       "      <th>0</th>\n",
       "      <td>Packard 255 G2</td>\n",
       "      <td>/test-sites/e-commerce/static/product/516</td>\n",
       "      <td>$416.99</td>\n",
       "      <td>2 reviews</td>\n",
       "      <td>2</td>\n",
       "      <td>15.6\", AMD E2-3800 1.3GHz, 4GB, 500GB, Windows...</td>\n",
       "    </tr>\n",
       "    <tr>\n",
       "      <th>1</th>\n",
       "      <td>Aspire E1-510</td>\n",
       "      <td>/test-sites/e-commerce/static/product/517</td>\n",
       "      <td>$306.99</td>\n",
       "      <td>2 reviews</td>\n",
       "      <td>3</td>\n",
       "      <td>15.6\", Pentium N3520 2.16GHz, 4GB, 500GB, Linux</td>\n",
       "    </tr>\n",
       "    <tr>\n",
       "      <th>2</th>\n",
       "      <td>ThinkPad T540p</td>\n",
       "      <td>/test-sites/e-commerce/static/product/518</td>\n",
       "      <td>$1178.99</td>\n",
       "      <td>2 reviews</td>\n",
       "      <td>1</td>\n",
       "      <td>15.6\", Core i5-4200M, 4GB, 500GB, Win7 Pro 64bit</td>\n",
       "    </tr>\n",
       "    <tr>\n",
       "      <th>3</th>\n",
       "      <td>ProBook</td>\n",
       "      <td>/test-sites/e-commerce/static/product/519</td>\n",
       "      <td>$739.99</td>\n",
       "      <td>8 reviews</td>\n",
       "      <td>4</td>\n",
       "      <td>14\", Core i5 2.6GHz, 4GB, 500GB, Win7 Pro 64bit</td>\n",
       "    </tr>\n",
       "    <tr>\n",
       "      <th>4</th>\n",
       "      <td>ThinkPad X240</td>\n",
       "      <td>/test-sites/e-commerce/static/product/520</td>\n",
       "      <td>$1311.99</td>\n",
       "      <td>12 reviews</td>\n",
       "      <td>3</td>\n",
       "      <td>12.5\", Core i5-4300U, 8GB, 240GB SSD, Win7 Pro...</td>\n",
       "    </tr>\n",
       "  </tbody>\n",
       "</table>\n",
       "</div>"
      ],
      "text/plain": [
       "             name                                        url     price  \\\n",
       "0  Packard 255 G2  /test-sites/e-commerce/static/product/516   $416.99   \n",
       "1   Aspire E1-510  /test-sites/e-commerce/static/product/517   $306.99   \n",
       "2  ThinkPad T540p  /test-sites/e-commerce/static/product/518  $1178.99   \n",
       "3         ProBook  /test-sites/e-commerce/static/product/519   $739.99   \n",
       "4   ThinkPad X240  /test-sites/e-commerce/static/product/520  $1311.99   \n",
       "\n",
       "      reviews rating                                        description  \n",
       "0   2 reviews      2  15.6\", AMD E2-3800 1.3GHz, 4GB, 500GB, Windows...  \n",
       "1   2 reviews      3    15.6\", Pentium N3520 2.16GHz, 4GB, 500GB, Linux  \n",
       "2   2 reviews      1   15.6\", Core i5-4200M, 4GB, 500GB, Win7 Pro 64bit  \n",
       "3   8 reviews      4    14\", Core i5 2.6GHz, 4GB, 500GB, Win7 Pro 64bit  \n",
       "4  12 reviews      3  12.5\", Core i5-4300U, 8GB, 240GB SSD, Win7 Pro...  "
      ]
     },
     "execution_count": 180,
     "metadata": {},
     "output_type": "execute_result"
    }
   ],
   "source": [
    "# rename columns (title, url, price)\n",
    "df.columns = ['name','url','price','reviews','rating','description']\n",
    "df.head()"
   ]
  },
  {
   "cell_type": "code",
   "execution_count": 181,
   "id": "0e06b0eb",
   "metadata": {
    "scrolled": true
   },
   "outputs": [
    {
     "data": {
      "text/html": [
       "<div>\n",
       "<style scoped>\n",
       "    .dataframe tbody tr th:only-of-type {\n",
       "        vertical-align: middle;\n",
       "    }\n",
       "\n",
       "    .dataframe tbody tr th {\n",
       "        vertical-align: top;\n",
       "    }\n",
       "\n",
       "    .dataframe thead th {\n",
       "        text-align: right;\n",
       "    }\n",
       "</style>\n",
       "<table border=\"1\" class=\"dataframe\">\n",
       "  <thead>\n",
       "    <tr style=\"text-align: right;\">\n",
       "      <th></th>\n",
       "      <th>name</th>\n",
       "      <th>url</th>\n",
       "      <th>price</th>\n",
       "      <th>reviews</th>\n",
       "      <th>rating</th>\n",
       "      <th>description</th>\n",
       "      <th>link</th>\n",
       "    </tr>\n",
       "  </thead>\n",
       "  <tbody>\n",
       "    <tr>\n",
       "      <th>0</th>\n",
       "      <td>Packard 255 G2</td>\n",
       "      <td>/test-sites/e-commerce/static/product/516</td>\n",
       "      <td>$416.99</td>\n",
       "      <td>2 reviews</td>\n",
       "      <td>2</td>\n",
       "      <td>15.6\", AMD E2-3800 1.3GHz, 4GB, 500GB, Windows...</td>\n",
       "      <td>https://webscraper.io/test-sites/e-commerce/st...</td>\n",
       "    </tr>\n",
       "    <tr>\n",
       "      <th>1</th>\n",
       "      <td>Aspire E1-510</td>\n",
       "      <td>/test-sites/e-commerce/static/product/517</td>\n",
       "      <td>$306.99</td>\n",
       "      <td>2 reviews</td>\n",
       "      <td>3</td>\n",
       "      <td>15.6\", Pentium N3520 2.16GHz, 4GB, 500GB, Linux</td>\n",
       "      <td>https://webscraper.io/test-sites/e-commerce/st...</td>\n",
       "    </tr>\n",
       "    <tr>\n",
       "      <th>2</th>\n",
       "      <td>ThinkPad T540p</td>\n",
       "      <td>/test-sites/e-commerce/static/product/518</td>\n",
       "      <td>$1178.99</td>\n",
       "      <td>2 reviews</td>\n",
       "      <td>1</td>\n",
       "      <td>15.6\", Core i5-4200M, 4GB, 500GB, Win7 Pro 64bit</td>\n",
       "      <td>https://webscraper.io/test-sites/e-commerce/st...</td>\n",
       "    </tr>\n",
       "    <tr>\n",
       "      <th>3</th>\n",
       "      <td>ProBook</td>\n",
       "      <td>/test-sites/e-commerce/static/product/519</td>\n",
       "      <td>$739.99</td>\n",
       "      <td>8 reviews</td>\n",
       "      <td>4</td>\n",
       "      <td>14\", Core i5 2.6GHz, 4GB, 500GB, Win7 Pro 64bit</td>\n",
       "      <td>https://webscraper.io/test-sites/e-commerce/st...</td>\n",
       "    </tr>\n",
       "    <tr>\n",
       "      <th>4</th>\n",
       "      <td>ThinkPad X240</td>\n",
       "      <td>/test-sites/e-commerce/static/product/520</td>\n",
       "      <td>$1311.99</td>\n",
       "      <td>12 reviews</td>\n",
       "      <td>3</td>\n",
       "      <td>12.5\", Core i5-4300U, 8GB, 240GB SSD, Win7 Pro...</td>\n",
       "      <td>https://webscraper.io/test-sites/e-commerce/st...</td>\n",
       "    </tr>\n",
       "  </tbody>\n",
       "</table>\n",
       "</div>"
      ],
      "text/plain": [
       "             name                                        url     price  \\\n",
       "0  Packard 255 G2  /test-sites/e-commerce/static/product/516   $416.99   \n",
       "1   Aspire E1-510  /test-sites/e-commerce/static/product/517   $306.99   \n",
       "2  ThinkPad T540p  /test-sites/e-commerce/static/product/518  $1178.99   \n",
       "3         ProBook  /test-sites/e-commerce/static/product/519   $739.99   \n",
       "4   ThinkPad X240  /test-sites/e-commerce/static/product/520  $1311.99   \n",
       "\n",
       "      reviews rating                                        description  \\\n",
       "0   2 reviews      2  15.6\", AMD E2-3800 1.3GHz, 4GB, 500GB, Windows...   \n",
       "1   2 reviews      3    15.6\", Pentium N3520 2.16GHz, 4GB, 500GB, Linux   \n",
       "2   2 reviews      1   15.6\", Core i5-4200M, 4GB, 500GB, Win7 Pro 64bit   \n",
       "3   8 reviews      4    14\", Core i5 2.6GHz, 4GB, 500GB, Win7 Pro 64bit   \n",
       "4  12 reviews      3  12.5\", Core i5-4300U, 8GB, 240GB SSD, Win7 Pro...   \n",
       "\n",
       "                                                link  \n",
       "0  https://webscraper.io/test-sites/e-commerce/st...  \n",
       "1  https://webscraper.io/test-sites/e-commerce/st...  \n",
       "2  https://webscraper.io/test-sites/e-commerce/st...  \n",
       "3  https://webscraper.io/test-sites/e-commerce/st...  \n",
       "4  https://webscraper.io/test-sites/e-commerce/st...  "
      ]
     },
     "execution_count": 181,
     "metadata": {},
     "output_type": "execute_result"
    }
   ],
   "source": [
    "df['link'] = 'https://webscraper.io'  + df['url']\n",
    "df.head()"
   ]
  },
  {
   "cell_type": "code",
   "execution_count": 182,
   "id": "16b4d781",
   "metadata": {},
   "outputs": [
    {
     "data": {
      "text/html": [
       "<div>\n",
       "<style scoped>\n",
       "    .dataframe tbody tr th:only-of-type {\n",
       "        vertical-align: middle;\n",
       "    }\n",
       "\n",
       "    .dataframe tbody tr th {\n",
       "        vertical-align: top;\n",
       "    }\n",
       "\n",
       "    .dataframe thead th {\n",
       "        text-align: right;\n",
       "    }\n",
       "</style>\n",
       "<table border=\"1\" class=\"dataframe\">\n",
       "  <thead>\n",
       "    <tr style=\"text-align: right;\">\n",
       "      <th></th>\n",
       "      <th>name</th>\n",
       "      <th>price</th>\n",
       "      <th>reviews</th>\n",
       "      <th>rating</th>\n",
       "      <th>description</th>\n",
       "      <th>link</th>\n",
       "    </tr>\n",
       "  </thead>\n",
       "  <tbody>\n",
       "    <tr>\n",
       "      <th>0</th>\n",
       "      <td>Packard 255 G2</td>\n",
       "      <td>$416.99</td>\n",
       "      <td>2 reviews</td>\n",
       "      <td>2</td>\n",
       "      <td>15.6\", AMD E2-3800 1.3GHz, 4GB, 500GB, Windows...</td>\n",
       "      <td>https://webscraper.io/test-sites/e-commerce/st...</td>\n",
       "    </tr>\n",
       "    <tr>\n",
       "      <th>1</th>\n",
       "      <td>Aspire E1-510</td>\n",
       "      <td>$306.99</td>\n",
       "      <td>2 reviews</td>\n",
       "      <td>3</td>\n",
       "      <td>15.6\", Pentium N3520 2.16GHz, 4GB, 500GB, Linux</td>\n",
       "      <td>https://webscraper.io/test-sites/e-commerce/st...</td>\n",
       "    </tr>\n",
       "    <tr>\n",
       "      <th>2</th>\n",
       "      <td>ThinkPad T540p</td>\n",
       "      <td>$1178.99</td>\n",
       "      <td>2 reviews</td>\n",
       "      <td>1</td>\n",
       "      <td>15.6\", Core i5-4200M, 4GB, 500GB, Win7 Pro 64bit</td>\n",
       "      <td>https://webscraper.io/test-sites/e-commerce/st...</td>\n",
       "    </tr>\n",
       "    <tr>\n",
       "      <th>3</th>\n",
       "      <td>ProBook</td>\n",
       "      <td>$739.99</td>\n",
       "      <td>8 reviews</td>\n",
       "      <td>4</td>\n",
       "      <td>14\", Core i5 2.6GHz, 4GB, 500GB, Win7 Pro 64bit</td>\n",
       "      <td>https://webscraper.io/test-sites/e-commerce/st...</td>\n",
       "    </tr>\n",
       "    <tr>\n",
       "      <th>4</th>\n",
       "      <td>ThinkPad X240</td>\n",
       "      <td>$1311.99</td>\n",
       "      <td>12 reviews</td>\n",
       "      <td>3</td>\n",
       "      <td>12.5\", Core i5-4300U, 8GB, 240GB SSD, Win7 Pro...</td>\n",
       "      <td>https://webscraper.io/test-sites/e-commerce/st...</td>\n",
       "    </tr>\n",
       "  </tbody>\n",
       "</table>\n",
       "</div>"
      ],
      "text/plain": [
       "             name     price     reviews rating  \\\n",
       "0  Packard 255 G2   $416.99   2 reviews      2   \n",
       "1   Aspire E1-510   $306.99   2 reviews      3   \n",
       "2  ThinkPad T540p  $1178.99   2 reviews      1   \n",
       "3         ProBook   $739.99   8 reviews      4   \n",
       "4   ThinkPad X240  $1311.99  12 reviews      3   \n",
       "\n",
       "                                         description  \\\n",
       "0  15.6\", AMD E2-3800 1.3GHz, 4GB, 500GB, Windows...   \n",
       "1    15.6\", Pentium N3520 2.16GHz, 4GB, 500GB, Linux   \n",
       "2   15.6\", Core i5-4200M, 4GB, 500GB, Win7 Pro 64bit   \n",
       "3    14\", Core i5 2.6GHz, 4GB, 500GB, Win7 Pro 64bit   \n",
       "4  12.5\", Core i5-4300U, 8GB, 240GB SSD, Win7 Pro...   \n",
       "\n",
       "                                                link  \n",
       "0  https://webscraper.io/test-sites/e-commerce/st...  \n",
       "1  https://webscraper.io/test-sites/e-commerce/st...  \n",
       "2  https://webscraper.io/test-sites/e-commerce/st...  \n",
       "3  https://webscraper.io/test-sites/e-commerce/st...  \n",
       "4  https://webscraper.io/test-sites/e-commerce/st...  "
      ]
     },
     "execution_count": 182,
     "metadata": {},
     "output_type": "execute_result"
    }
   ],
   "source": [
    "# Drop the 'url' column\n",
    "df.drop(columns=['url'], inplace=True)\n",
    "df.head()"
   ]
  },
  {
   "cell_type": "markdown",
   "id": "7a68773f",
   "metadata": {},
   "source": [
    "##  Data cleaning & transformation "
   ]
  },
  {
   "cell_type": "code",
   "execution_count": 183,
   "id": "ca59fdd7",
   "metadata": {},
   "outputs": [
    {
     "data": {
      "text/plain": [
       "(117, 6)"
      ]
     },
     "execution_count": 183,
     "metadata": {},
     "output_type": "execute_result"
    }
   ],
   "source": [
    "# inspecting the number of rows in your dataframe\n",
    "df.shape"
   ]
  },
  {
   "cell_type": "markdown",
   "id": "30aa59f7",
   "metadata": {},
   "source": [
    "* There are 117 rows and 6 columns in the dataset."
   ]
  },
  {
   "cell_type": "code",
   "execution_count": 184,
   "id": "b20bb705",
   "metadata": {
    "scrolled": true
   },
   "outputs": [
    {
     "name": "stdout",
     "output_type": "stream",
     "text": [
      "<class 'pandas.core.frame.DataFrame'>\n",
      "RangeIndex: 117 entries, 0 to 116\n",
      "Data columns (total 6 columns):\n",
      " #   Column       Non-Null Count  Dtype  \n",
      "---  ------       --------------  -----  \n",
      " 0   title        117 non-null    object \n",
      " 1   url          117 non-null    object \n",
      " 2   price        117 non-null    object \n",
      " 3   review       117 non-null    object \n",
      " 4   rating       117 non-null    object \n",
      " 5   description  0 non-null      float64\n",
      "dtypes: float64(1), object(5)\n",
      "memory usage: 5.6+ KB\n"
     ]
    }
   ],
   "source": [
    "#checking data types\n",
    "finaldf.info()"
   ]
  },
  {
   "cell_type": "code",
   "execution_count": 185,
   "id": "24f4e9c5",
   "metadata": {},
   "outputs": [
    {
     "data": {
      "text/plain": [
       "name           0\n",
       "price          0\n",
       "reviews        0\n",
       "rating         0\n",
       "description    0\n",
       "link           0\n",
       "dtype: int64"
      ]
     },
     "execution_count": 185,
     "metadata": {},
     "output_type": "execute_result"
    }
   ],
   "source": [
    "# checking missing values\n",
    "df.isnull().sum()"
   ]
  },
  {
   "cell_type": "code",
   "execution_count": 186,
   "id": "44f3b9e1",
   "metadata": {},
   "outputs": [
    {
     "data": {
      "text/html": [
       "<div>\n",
       "<style scoped>\n",
       "    .dataframe tbody tr th:only-of-type {\n",
       "        vertical-align: middle;\n",
       "    }\n",
       "\n",
       "    .dataframe tbody tr th {\n",
       "        vertical-align: top;\n",
       "    }\n",
       "\n",
       "    .dataframe thead th {\n",
       "        text-align: right;\n",
       "    }\n",
       "</style>\n",
       "<table border=\"1\" class=\"dataframe\">\n",
       "  <thead>\n",
       "    <tr style=\"text-align: right;\">\n",
       "      <th></th>\n",
       "      <th>name</th>\n",
       "      <th>price</th>\n",
       "      <th>reviews</th>\n",
       "      <th>rating</th>\n",
       "      <th>description</th>\n",
       "      <th>link</th>\n",
       "    </tr>\n",
       "  </thead>\n",
       "  <tbody>\n",
       "    <tr>\n",
       "      <th>0</th>\n",
       "      <td>Packard 255 G2</td>\n",
       "      <td>$416.99</td>\n",
       "      <td>2 reviews</td>\n",
       "      <td>2</td>\n",
       "      <td>15.6\", AMD E2-3800 1.3GHz, 4GB, 500GB, Windows...</td>\n",
       "      <td>https://webscraper.io/test-sites/e-commerce/st...</td>\n",
       "    </tr>\n",
       "    <tr>\n",
       "      <th>1</th>\n",
       "      <td>Aspire E1-510</td>\n",
       "      <td>$306.99</td>\n",
       "      <td>2 reviews</td>\n",
       "      <td>3</td>\n",
       "      <td>15.6\", Pentium N3520 2.16GHz, 4GB, 500GB, Linux</td>\n",
       "      <td>https://webscraper.io/test-sites/e-commerce/st...</td>\n",
       "    </tr>\n",
       "  </tbody>\n",
       "</table>\n",
       "</div>"
      ],
      "text/plain": [
       "             name    price    reviews  rating  \\\n",
       "0  Packard 255 G2  $416.99  2 reviews       2   \n",
       "1   Aspire E1-510  $306.99  2 reviews       3   \n",
       "\n",
       "                                         description  \\\n",
       "0  15.6\", AMD E2-3800 1.3GHz, 4GB, 500GB, Windows...   \n",
       "1    15.6\", Pentium N3520 2.16GHz, 4GB, 500GB, Linux   \n",
       "\n",
       "                                                link  \n",
       "0  https://webscraper.io/test-sites/e-commerce/st...  \n",
       "1  https://webscraper.io/test-sites/e-commerce/st...  "
      ]
     },
     "execution_count": 186,
     "metadata": {},
     "output_type": "execute_result"
    }
   ],
   "source": [
    "# converting object data type to float for rating column\n",
    "df['rating']=pd.to_numeric(df['rating'])\n",
    "df.head(2)"
   ]
  },
  {
   "cell_type": "code",
   "execution_count": 187,
   "id": "80cabcef",
   "metadata": {},
   "outputs": [],
   "source": [
    "# export the crawled data to a csv file (myscrapedata.csv)\n",
    "df.to_csv('myscrapedata.csv', index=False)"
   ]
  },
  {
   "cell_type": "markdown",
   "id": "98042e22",
   "metadata": {},
   "source": [
    "# Data Understanding & EDA"
   ]
  },
  {
   "cell_type": "markdown",
   "id": "76171f5a",
   "metadata": {},
   "source": [
    "## Inspect Data"
   ]
  },
  {
   "cell_type": "code",
   "execution_count": 188,
   "id": "2d104cc1",
   "metadata": {},
   "outputs": [
    {
     "data": {
      "text/html": [
       "<div>\n",
       "<style scoped>\n",
       "    .dataframe tbody tr th:only-of-type {\n",
       "        vertical-align: middle;\n",
       "    }\n",
       "\n",
       "    .dataframe tbody tr th {\n",
       "        vertical-align: top;\n",
       "    }\n",
       "\n",
       "    .dataframe thead th {\n",
       "        text-align: right;\n",
       "    }\n",
       "</style>\n",
       "<table border=\"1\" class=\"dataframe\">\n",
       "  <thead>\n",
       "    <tr style=\"text-align: right;\">\n",
       "      <th></th>\n",
       "      <th>name</th>\n",
       "      <th>price</th>\n",
       "      <th>reviews</th>\n",
       "      <th>rating</th>\n",
       "      <th>description</th>\n",
       "      <th>link</th>\n",
       "    </tr>\n",
       "  </thead>\n",
       "  <tbody>\n",
       "    <tr>\n",
       "      <th>0</th>\n",
       "      <td>Packard 255 G2</td>\n",
       "      <td>$416.99</td>\n",
       "      <td>2 reviews</td>\n",
       "      <td>2</td>\n",
       "      <td>15.6\", AMD E2-3800 1.3GHz, 4GB, 500GB, Windows...</td>\n",
       "      <td>https://webscraper.io/test-sites/e-commerce/st...</td>\n",
       "    </tr>\n",
       "    <tr>\n",
       "      <th>1</th>\n",
       "      <td>Aspire E1-510</td>\n",
       "      <td>$306.99</td>\n",
       "      <td>2 reviews</td>\n",
       "      <td>3</td>\n",
       "      <td>15.6\", Pentium N3520 2.16GHz, 4GB, 500GB, Linux</td>\n",
       "      <td>https://webscraper.io/test-sites/e-commerce/st...</td>\n",
       "    </tr>\n",
       "  </tbody>\n",
       "</table>\n",
       "</div>"
      ],
      "text/plain": [
       "             name    price    reviews  rating  \\\n",
       "0  Packard 255 G2  $416.99  2 reviews       2   \n",
       "1   Aspire E1-510  $306.99  2 reviews       3   \n",
       "\n",
       "                                         description  \\\n",
       "0  15.6\", AMD E2-3800 1.3GHz, 4GB, 500GB, Windows...   \n",
       "1    15.6\", Pentium N3520 2.16GHz, 4GB, 500GB, Linux   \n",
       "\n",
       "                                                link  \n",
       "0  https://webscraper.io/test-sites/e-commerce/st...  \n",
       "1  https://webscraper.io/test-sites/e-commerce/st...  "
      ]
     },
     "execution_count": 188,
     "metadata": {},
     "output_type": "execute_result"
    }
   ],
   "source": [
    "# read the finaldf.csv as dataframe\n",
    "df = pd.read_csv(\"myscrapedata.csv\")\n",
    "df.head(2)"
   ]
  },
  {
   "cell_type": "markdown",
   "id": "15065c3a",
   "metadata": {},
   "source": [
    "### Slicing data"
   ]
  },
  {
   "cell_type": "code",
   "execution_count": 189,
   "id": "c2e037a0",
   "metadata": {},
   "outputs": [
    {
     "data": {
      "text/html": [
       "<div>\n",
       "<style scoped>\n",
       "    .dataframe tbody tr th:only-of-type {\n",
       "        vertical-align: middle;\n",
       "    }\n",
       "\n",
       "    .dataframe tbody tr th {\n",
       "        vertical-align: top;\n",
       "    }\n",
       "\n",
       "    .dataframe thead th {\n",
       "        text-align: right;\n",
       "    }\n",
       "</style>\n",
       "<table border=\"1\" class=\"dataframe\">\n",
       "  <thead>\n",
       "    <tr style=\"text-align: right;\">\n",
       "      <th></th>\n",
       "      <th>name</th>\n",
       "      <th>price</th>\n",
       "      <th>reviews</th>\n",
       "      <th>rating</th>\n",
       "      <th>description</th>\n",
       "      <th>link</th>\n",
       "    </tr>\n",
       "  </thead>\n",
       "  <tbody>\n",
       "    <tr>\n",
       "      <th>0</th>\n",
       "      <td>Packard 255 G2</td>\n",
       "      <td>$416.99</td>\n",
       "      <td>2 reviews</td>\n",
       "      <td>2</td>\n",
       "      <td>15.6\", AMD E2-3800 1.3GHz, 4GB, 500GB, Windows...</td>\n",
       "      <td>https://webscraper.io/test-sites/e-commerce/st...</td>\n",
       "    </tr>\n",
       "  </tbody>\n",
       "</table>\n",
       "</div>"
      ],
      "text/plain": [
       "             name    price    reviews  rating  \\\n",
       "0  Packard 255 G2  $416.99  2 reviews       2   \n",
       "\n",
       "                                         description  \\\n",
       "0  15.6\", AMD E2-3800 1.3GHz, 4GB, 500GB, Windows...   \n",
       "\n",
       "                                                link  \n",
       "0  https://webscraper.io/test-sites/e-commerce/st...  "
      ]
     },
     "execution_count": 189,
     "metadata": {},
     "output_type": "execute_result"
    }
   ],
   "source": [
    "# view 1st row\n",
    "df.iloc[0:1,]"
   ]
  },
  {
   "cell_type": "code",
   "execution_count": 190,
   "id": "06285e23",
   "metadata": {},
   "outputs": [
    {
     "data": {
      "text/html": [
       "<div>\n",
       "<style scoped>\n",
       "    .dataframe tbody tr th:only-of-type {\n",
       "        vertical-align: middle;\n",
       "    }\n",
       "\n",
       "    .dataframe tbody tr th {\n",
       "        vertical-align: top;\n",
       "    }\n",
       "\n",
       "    .dataframe thead th {\n",
       "        text-align: right;\n",
       "    }\n",
       "</style>\n",
       "<table border=\"1\" class=\"dataframe\">\n",
       "  <thead>\n",
       "    <tr style=\"text-align: right;\">\n",
       "      <th></th>\n",
       "      <th>price</th>\n",
       "      <th>reviews</th>\n",
       "    </tr>\n",
       "  </thead>\n",
       "  <tbody>\n",
       "    <tr>\n",
       "      <th>1</th>\n",
       "      <td>$306.99</td>\n",
       "      <td>2 reviews</td>\n",
       "    </tr>\n",
       "    <tr>\n",
       "      <th>2</th>\n",
       "      <td>$1178.99</td>\n",
       "      <td>2 reviews</td>\n",
       "    </tr>\n",
       "    <tr>\n",
       "      <th>3</th>\n",
       "      <td>$739.99</td>\n",
       "      <td>8 reviews</td>\n",
       "    </tr>\n",
       "    <tr>\n",
       "      <th>4</th>\n",
       "      <td>$1311.99</td>\n",
       "      <td>12 reviews</td>\n",
       "    </tr>\n",
       "  </tbody>\n",
       "</table>\n",
       "</div>"
      ],
      "text/plain": [
       "      price     reviews\n",
       "1   $306.99   2 reviews\n",
       "2  $1178.99   2 reviews\n",
       "3   $739.99   8 reviews\n",
       "4  $1311.99  12 reviews"
      ]
     },
     "execution_count": 190,
     "metadata": {},
     "output_type": "execute_result"
    }
   ],
   "source": [
    "# selecting 3rd and 5th column, 2nd through 4th rows\n",
    "df.loc[1:4,['price','reviews']]"
   ]
  },
  {
   "cell_type": "markdown",
   "id": "fe8ec451",
   "metadata": {},
   "source": [
    "### Create new columns "
   ]
  },
  {
   "cell_type": "code",
   "execution_count": 191,
   "id": "e2df1101",
   "metadata": {},
   "outputs": [
    {
     "data": {
      "text/html": [
       "<div>\n",
       "<style scoped>\n",
       "    .dataframe tbody tr th:only-of-type {\n",
       "        vertical-align: middle;\n",
       "    }\n",
       "\n",
       "    .dataframe tbody tr th {\n",
       "        vertical-align: top;\n",
       "    }\n",
       "\n",
       "    .dataframe thead th {\n",
       "        text-align: right;\n",
       "    }\n",
       "</style>\n",
       "<table border=\"1\" class=\"dataframe\">\n",
       "  <thead>\n",
       "    <tr style=\"text-align: right;\">\n",
       "      <th></th>\n",
       "      <th>name</th>\n",
       "      <th>price</th>\n",
       "      <th>reviews</th>\n",
       "      <th>rating</th>\n",
       "      <th>description</th>\n",
       "      <th>link</th>\n",
       "      <th>brandmodel</th>\n",
       "    </tr>\n",
       "  </thead>\n",
       "  <tbody>\n",
       "    <tr>\n",
       "      <th>0</th>\n",
       "      <td>Packard 255 G2</td>\n",
       "      <td>$416.99</td>\n",
       "      <td>2 reviews</td>\n",
       "      <td>2</td>\n",
       "      <td>15.6\", AMD E2-3800 1.3GHz, 4GB, 500GB, Windows...</td>\n",
       "      <td>https://webscraper.io/test-sites/e-commerce/st...</td>\n",
       "      <td>Packard</td>\n",
       "    </tr>\n",
       "    <tr>\n",
       "      <th>1</th>\n",
       "      <td>Aspire E1-510</td>\n",
       "      <td>$306.99</td>\n",
       "      <td>2 reviews</td>\n",
       "      <td>3</td>\n",
       "      <td>15.6\", Pentium N3520 2.16GHz, 4GB, 500GB, Linux</td>\n",
       "      <td>https://webscraper.io/test-sites/e-commerce/st...</td>\n",
       "      <td>Aspire</td>\n",
       "    </tr>\n",
       "    <tr>\n",
       "      <th>2</th>\n",
       "      <td>ThinkPad T540p</td>\n",
       "      <td>$1178.99</td>\n",
       "      <td>2 reviews</td>\n",
       "      <td>1</td>\n",
       "      <td>15.6\", Core i5-4200M, 4GB, 500GB, Win7 Pro 64bit</td>\n",
       "      <td>https://webscraper.io/test-sites/e-commerce/st...</td>\n",
       "      <td>ThinkPad</td>\n",
       "    </tr>\n",
       "    <tr>\n",
       "      <th>3</th>\n",
       "      <td>ProBook</td>\n",
       "      <td>$739.99</td>\n",
       "      <td>8 reviews</td>\n",
       "      <td>4</td>\n",
       "      <td>14\", Core i5 2.6GHz, 4GB, 500GB, Win7 Pro 64bit</td>\n",
       "      <td>https://webscraper.io/test-sites/e-commerce/st...</td>\n",
       "      <td>ProBook</td>\n",
       "    </tr>\n",
       "    <tr>\n",
       "      <th>4</th>\n",
       "      <td>ThinkPad X240</td>\n",
       "      <td>$1311.99</td>\n",
       "      <td>12 reviews</td>\n",
       "      <td>3</td>\n",
       "      <td>12.5\", Core i5-4300U, 8GB, 240GB SSD, Win7 Pro...</td>\n",
       "      <td>https://webscraper.io/test-sites/e-commerce/st...</td>\n",
       "      <td>ThinkPad</td>\n",
       "    </tr>\n",
       "  </tbody>\n",
       "</table>\n",
       "</div>"
      ],
      "text/plain": [
       "             name     price     reviews  rating  \\\n",
       "0  Packard 255 G2   $416.99   2 reviews       2   \n",
       "1   Aspire E1-510   $306.99   2 reviews       3   \n",
       "2  ThinkPad T540p  $1178.99   2 reviews       1   \n",
       "3         ProBook   $739.99   8 reviews       4   \n",
       "4   ThinkPad X240  $1311.99  12 reviews       3   \n",
       "\n",
       "                                         description  \\\n",
       "0  15.6\", AMD E2-3800 1.3GHz, 4GB, 500GB, Windows...   \n",
       "1    15.6\", Pentium N3520 2.16GHz, 4GB, 500GB, Linux   \n",
       "2   15.6\", Core i5-4200M, 4GB, 500GB, Win7 Pro 64bit   \n",
       "3    14\", Core i5 2.6GHz, 4GB, 500GB, Win7 Pro 64bit   \n",
       "4  12.5\", Core i5-4300U, 8GB, 240GB SSD, Win7 Pro...   \n",
       "\n",
       "                                                link brandmodel  \n",
       "0  https://webscraper.io/test-sites/e-commerce/st...    Packard  \n",
       "1  https://webscraper.io/test-sites/e-commerce/st...     Aspire  \n",
       "2  https://webscraper.io/test-sites/e-commerce/st...   ThinkPad  \n",
       "3  https://webscraper.io/test-sites/e-commerce/st...    ProBook  \n",
       "4  https://webscraper.io/test-sites/e-commerce/st...   ThinkPad  "
      ]
     },
     "execution_count": 191,
     "metadata": {},
     "output_type": "execute_result"
    }
   ],
   "source": [
    "# the first \"word\" in the name column is computer brand/model (e.g., HP, Dell, Inspiron)\n",
    "# create a new column \"brandmodel\"\n",
    "df['brandmodel'] = [x.split()[0] for x in df['name']]\n",
    "df.head()"
   ]
  },
  {
   "cell_type": "code",
   "execution_count": 192,
   "id": "e4eecc10",
   "metadata": {
    "run_control": {
     "marked": true
    }
   },
   "outputs": [
    {
     "data": {
      "text/plain": [
       "16"
      ]
     },
     "execution_count": 192,
     "metadata": {},
     "output_type": "execute_result"
    }
   ],
   "source": [
    "# how many unique computer brands/models (e.g., HP, Dell, Inspiron) are represented in the data? \n",
    "# and what are they?\n",
    "df['brandmodel'].nunique()"
   ]
  },
  {
   "cell_type": "markdown",
   "id": "ce58a33e",
   "metadata": {},
   "source": [
    "* There are **16** unique computer brands/models (e.g., HP, Dell, Inspiron) are represented in the data"
   ]
  },
  {
   "cell_type": "code",
   "execution_count": 193,
   "id": "6c61942f",
   "metadata": {
    "code_folding": [],
    "scrolled": true
   },
   "outputs": [
    {
     "data": {
      "text/plain": [
       "array(['Packard', 'Aspire', 'ThinkPad', 'ProBook', 'Pavilion', 'Inspiron',\n",
       "       'Dell', 'HP', 'Asus', 'Acer', 'Lenovo', 'Prestigio', 'Hewlett',\n",
       "       'MSI', 'Toshiba', 'Apple'], dtype=object)"
      ]
     },
     "execution_count": 193,
     "metadata": {},
     "output_type": "execute_result"
    }
   ],
   "source": [
    "# unique computer brands/models\n",
    "df['brandmodel'].unique()"
   ]
  },
  {
   "cell_type": "markdown",
   "id": "8feaf381",
   "metadata": {},
   "source": [
    "* The unique computer brands/models are _'Packard', 'Aspire', 'ThinkPad', 'ProBook', 'Pavilion', 'Inspiron','Dell', 'HP', 'Asus', 'Acer', 'Lenovo', 'Prestigio', 'Hewlett', 'MSI', 'Toshiba', 'Apple'_."
   ]
  },
  {
   "cell_type": "code",
   "execution_count": 194,
   "id": "23d4e571",
   "metadata": {
    "scrolled": true
   },
   "outputs": [
    {
     "name": "stderr",
     "output_type": "stream",
     "text": [
      "C:\\Users\\light\\AppData\\Local\\Temp\\ipykernel_32248\\2205175538.py:4: FutureWarning: The default value of regex will change from True to False in a future version.\n",
      "  df['product_number'] = df[\"link\"].str.replace(\"https://webscraper.io/test-sites/e-commerce/static/product/\",\"\")\n"
     ]
    },
    {
     "data": {
      "text/html": [
       "<div>\n",
       "<style scoped>\n",
       "    .dataframe tbody tr th:only-of-type {\n",
       "        vertical-align: middle;\n",
       "    }\n",
       "\n",
       "    .dataframe tbody tr th {\n",
       "        vertical-align: top;\n",
       "    }\n",
       "\n",
       "    .dataframe thead th {\n",
       "        text-align: right;\n",
       "    }\n",
       "</style>\n",
       "<table border=\"1\" class=\"dataframe\">\n",
       "  <thead>\n",
       "    <tr style=\"text-align: right;\">\n",
       "      <th></th>\n",
       "      <th>name</th>\n",
       "      <th>price</th>\n",
       "      <th>reviews</th>\n",
       "      <th>rating</th>\n",
       "      <th>description</th>\n",
       "      <th>link</th>\n",
       "      <th>brandmodel</th>\n",
       "      <th>product_number</th>\n",
       "    </tr>\n",
       "  </thead>\n",
       "  <tbody>\n",
       "    <tr>\n",
       "      <th>0</th>\n",
       "      <td>Packard 255 G2</td>\n",
       "      <td>$416.99</td>\n",
       "      <td>2 reviews</td>\n",
       "      <td>2</td>\n",
       "      <td>15.6\", AMD E2-3800 1.3GHz, 4GB, 500GB, Windows...</td>\n",
       "      <td>https://webscraper.io/test-sites/e-commerce/st...</td>\n",
       "      <td>Packard</td>\n",
       "      <td>516</td>\n",
       "    </tr>\n",
       "    <tr>\n",
       "      <th>1</th>\n",
       "      <td>Aspire E1-510</td>\n",
       "      <td>$306.99</td>\n",
       "      <td>2 reviews</td>\n",
       "      <td>3</td>\n",
       "      <td>15.6\", Pentium N3520 2.16GHz, 4GB, 500GB, Linux</td>\n",
       "      <td>https://webscraper.io/test-sites/e-commerce/st...</td>\n",
       "      <td>Aspire</td>\n",
       "      <td>517</td>\n",
       "    </tr>\n",
       "    <tr>\n",
       "      <th>2</th>\n",
       "      <td>ThinkPad T540p</td>\n",
       "      <td>$1178.99</td>\n",
       "      <td>2 reviews</td>\n",
       "      <td>1</td>\n",
       "      <td>15.6\", Core i5-4200M, 4GB, 500GB, Win7 Pro 64bit</td>\n",
       "      <td>https://webscraper.io/test-sites/e-commerce/st...</td>\n",
       "      <td>ThinkPad</td>\n",
       "      <td>518</td>\n",
       "    </tr>\n",
       "    <tr>\n",
       "      <th>3</th>\n",
       "      <td>ProBook</td>\n",
       "      <td>$739.99</td>\n",
       "      <td>8 reviews</td>\n",
       "      <td>4</td>\n",
       "      <td>14\", Core i5 2.6GHz, 4GB, 500GB, Win7 Pro 64bit</td>\n",
       "      <td>https://webscraper.io/test-sites/e-commerce/st...</td>\n",
       "      <td>ProBook</td>\n",
       "      <td>519</td>\n",
       "    </tr>\n",
       "    <tr>\n",
       "      <th>4</th>\n",
       "      <td>ThinkPad X240</td>\n",
       "      <td>$1311.99</td>\n",
       "      <td>12 reviews</td>\n",
       "      <td>3</td>\n",
       "      <td>12.5\", Core i5-4300U, 8GB, 240GB SSD, Win7 Pro...</td>\n",
       "      <td>https://webscraper.io/test-sites/e-commerce/st...</td>\n",
       "      <td>ThinkPad</td>\n",
       "      <td>520</td>\n",
       "    </tr>\n",
       "  </tbody>\n",
       "</table>\n",
       "</div>"
      ],
      "text/plain": [
       "             name     price     reviews  rating  \\\n",
       "0  Packard 255 G2   $416.99   2 reviews       2   \n",
       "1   Aspire E1-510   $306.99   2 reviews       3   \n",
       "2  ThinkPad T540p  $1178.99   2 reviews       1   \n",
       "3         ProBook   $739.99   8 reviews       4   \n",
       "4   ThinkPad X240  $1311.99  12 reviews       3   \n",
       "\n",
       "                                         description  \\\n",
       "0  15.6\", AMD E2-3800 1.3GHz, 4GB, 500GB, Windows...   \n",
       "1    15.6\", Pentium N3520 2.16GHz, 4GB, 500GB, Linux   \n",
       "2   15.6\", Core i5-4200M, 4GB, 500GB, Win7 Pro 64bit   \n",
       "3    14\", Core i5 2.6GHz, 4GB, 500GB, Win7 Pro 64bit   \n",
       "4  12.5\", Core i5-4300U, 8GB, 240GB SSD, Win7 Pro...   \n",
       "\n",
       "                                                link brandmodel product_number  \n",
       "0  https://webscraper.io/test-sites/e-commerce/st...    Packard            516  \n",
       "1  https://webscraper.io/test-sites/e-commerce/st...     Aspire            517  \n",
       "2  https://webscraper.io/test-sites/e-commerce/st...   ThinkPad            518  \n",
       "3  https://webscraper.io/test-sites/e-commerce/st...    ProBook            519  \n",
       "4  https://webscraper.io/test-sites/e-commerce/st...   ThinkPad            520  "
      ]
     },
     "execution_count": 194,
     "metadata": {},
     "output_type": "execute_result"
    }
   ],
   "source": [
    "# create a new column \"productnumber\"\n",
    "# the url column contains product number (e.g., 516). \n",
    "# For example, extract 516 from the URL /test-sites/e-commerce/static/product/516\n",
    "df['product_number'] = df[\"link\"].str.replace(\"https://webscraper.io/test-sites/e-commerce/static/product/\",\"\")\n",
    "df.head()"
   ]
  },
  {
   "cell_type": "code",
   "execution_count": 195,
   "id": "d645a1c1",
   "metadata": {},
   "outputs": [
    {
     "data": {
      "text/plain": [
       "117"
      ]
     },
     "execution_count": 195,
     "metadata": {},
     "output_type": "execute_result"
    }
   ],
   "source": [
    "# how many unique product number\n",
    "df['product_number'].nunique()"
   ]
  },
  {
   "cell_type": "markdown",
   "id": "90bbb927",
   "metadata": {},
   "source": [
    "* There are **117** unique product numbers."
   ]
  },
  {
   "cell_type": "code",
   "execution_count": 196,
   "id": "359d4437",
   "metadata": {},
   "outputs": [
    {
     "data": {
      "text/html": [
       "<div>\n",
       "<style scoped>\n",
       "    .dataframe tbody tr th:only-of-type {\n",
       "        vertical-align: middle;\n",
       "    }\n",
       "\n",
       "    .dataframe tbody tr th {\n",
       "        vertical-align: top;\n",
       "    }\n",
       "\n",
       "    .dataframe thead th {\n",
       "        text-align: right;\n",
       "    }\n",
       "</style>\n",
       "<table border=\"1\" class=\"dataframe\">\n",
       "  <thead>\n",
       "    <tr style=\"text-align: right;\">\n",
       "      <th></th>\n",
       "      <th>name</th>\n",
       "      <th>price</th>\n",
       "      <th>reviews</th>\n",
       "      <th>rating</th>\n",
       "      <th>description</th>\n",
       "      <th>link</th>\n",
       "      <th>brandmodel</th>\n",
       "      <th>product_number</th>\n",
       "    </tr>\n",
       "  </thead>\n",
       "  <tbody>\n",
       "    <tr>\n",
       "      <th>0</th>\n",
       "      <td>Packard 255 G2</td>\n",
       "      <td>416.99</td>\n",
       "      <td>2 reviews</td>\n",
       "      <td>2</td>\n",
       "      <td>15.6\", AMD E2-3800 1.3GHz, 4GB, 500GB, Windows...</td>\n",
       "      <td>https://webscraper.io/test-sites/e-commerce/st...</td>\n",
       "      <td>Packard</td>\n",
       "      <td>516</td>\n",
       "    </tr>\n",
       "    <tr>\n",
       "      <th>1</th>\n",
       "      <td>Aspire E1-510</td>\n",
       "      <td>306.99</td>\n",
       "      <td>2 reviews</td>\n",
       "      <td>3</td>\n",
       "      <td>15.6\", Pentium N3520 2.16GHz, 4GB, 500GB, Linux</td>\n",
       "      <td>https://webscraper.io/test-sites/e-commerce/st...</td>\n",
       "      <td>Aspire</td>\n",
       "      <td>517</td>\n",
       "    </tr>\n",
       "  </tbody>\n",
       "</table>\n",
       "</div>"
      ],
      "text/plain": [
       "             name   price    reviews  rating  \\\n",
       "0  Packard 255 G2  416.99  2 reviews       2   \n",
       "1   Aspire E1-510  306.99  2 reviews       3   \n",
       "\n",
       "                                         description  \\\n",
       "0  15.6\", AMD E2-3800 1.3GHz, 4GB, 500GB, Windows...   \n",
       "1    15.6\", Pentium N3520 2.16GHz, 4GB, 500GB, Linux   \n",
       "\n",
       "                                                link brandmodel product_number  \n",
       "0  https://webscraper.io/test-sites/e-commerce/st...    Packard            516  \n",
       "1  https://webscraper.io/test-sites/e-commerce/st...     Aspire            517  "
      ]
     },
     "execution_count": 196,
     "metadata": {},
     "output_type": "execute_result"
    }
   ],
   "source": [
    "# remove $ sign from price and change the data type to float\n",
    "df['price']=df['price'].str.replace('$', '',regex=True)\n",
    "df.head(2)"
   ]
  },
  {
   "cell_type": "code",
   "execution_count": 197,
   "id": "b3addfa4",
   "metadata": {},
   "outputs": [
    {
     "data": {
      "text/plain": [
       "name              object\n",
       "price             object\n",
       "reviews           object\n",
       "rating             int64\n",
       "description       object\n",
       "link              object\n",
       "brandmodel        object\n",
       "product_number    object\n",
       "dtype: object"
      ]
     },
     "execution_count": 197,
     "metadata": {},
     "output_type": "execute_result"
    }
   ],
   "source": [
    "# show data types\n",
    "df.dtypes"
   ]
  },
  {
   "cell_type": "code",
   "execution_count": 198,
   "id": "bf56250d",
   "metadata": {},
   "outputs": [
    {
     "name": "stdout",
     "output_type": "stream",
     "text": [
      "<class 'pandas.core.frame.DataFrame'>\n",
      "RangeIndex: 117 entries, 0 to 116\n",
      "Data columns (total 8 columns):\n",
      " #   Column          Non-Null Count  Dtype  \n",
      "---  ------          --------------  -----  \n",
      " 0   name            117 non-null    object \n",
      " 1   price           117 non-null    float64\n",
      " 2   reviews         117 non-null    object \n",
      " 3   rating          117 non-null    int64  \n",
      " 4   description     117 non-null    object \n",
      " 5   link            117 non-null    object \n",
      " 6   brandmodel      117 non-null    object \n",
      " 7   product_number  117 non-null    object \n",
      "dtypes: float64(1), int64(1), object(6)\n",
      "memory usage: 7.4+ KB\n"
     ]
    }
   ],
   "source": [
    "# convert the price column to numeric & check the data types\n",
    "df['price']=pd.to_numeric(df['price'])\n",
    "df.info()"
   ]
  },
  {
   "cell_type": "markdown",
   "id": "532d1f8c",
   "metadata": {},
   "source": [
    "## EDA"
   ]
  },
  {
   "cell_type": "code",
   "execution_count": 199,
   "id": "08040ec0",
   "metadata": {},
   "outputs": [
    {
     "data": {
      "image/png": "[encoded data removed]",
      "text/plain": [
       "<Figure size 800x600 with 1 Axes>"
      ]
     },
     "metadata": {},
     "output_type": "display_data"
    }
   ],
   "source": [
    "# Group by 'reviews' and plot bar plot using Seaborn\n",
    "plt.figure(figsize=(8, 6))\n",
    "ax = sns.countplot(data=df, x='reviews')\n",
    "\n",
    "# Set plot labels and title\n",
    "plt.xlabel('Review Sentiment')\n",
    "plt.ylabel('Count')\n",
    "plt.title('Count of Review Sentiments')\n",
    "\n",
    "# Rotate x-axis labels for better readability\n",
    "ax.set_xticklabels(ax.get_xticklabels(), rotation=45, ha=\"right\")\n",
    "# Show the plot\n",
    "plt.tight_layout()\n",
    "plt.show()"
   ]
  },
  {
   "cell_type": "code",
   "execution_count": 200,
   "id": "6909635d",
   "metadata": {},
   "outputs": [
    {
     "data": {
      "image/png": "[encoded data removed]",
      "text/plain": [
       "<Figure size 640x480 with 1 Axes>"
      ]
     },
     "metadata": {},
     "output_type": "display_data"
    }
   ],
   "source": [
    "# Create a box plot using Seaborn for price column\n",
    "sns.boxplot(x=df['price'])\n",
    "\n",
    "# Show the plot\n",
    "plt.show()"
   ]
  },
  {
   "cell_type": "code",
   "execution_count": 201,
   "id": "1db7d8e1",
   "metadata": {},
   "outputs": [
    {
     "name": "stdout",
     "output_type": "stream",
     "text": [
      "1799.0\n",
      "295.99\n"
     ]
    }
   ],
   "source": [
    "# what is the most and least expensive computer?\n",
    "print(df['price'].max())\n",
    "print(df['price'].min())"
   ]
  },
  {
   "cell_type": "markdown",
   "id": "2e31bb2f",
   "metadata": {},
   "source": [
    "* The most expensive computer is **1799** and the cheapest is **295.99**"
   ]
  },
  {
   "cell_type": "code",
   "execution_count": 202,
   "id": "e938d07d",
   "metadata": {},
   "outputs": [
    {
     "data": {
      "image/png": "[encoded data removed]",
      "text/plain": [
       "<Figure size 800x600 with 1 Axes>"
      ]
     },
     "metadata": {},
     "output_type": "display_data"
    }
   ],
   "source": [
    "# Group by 'brandmodel' and plot grouped bar plot using Seaborn\n",
    "plt.figure(figsize=(8, 6))\n",
    "ax = sns.countplot(data=df, x='brandmodel')\n",
    "\n",
    "# Set plot labels and title\n",
    "plt.xlabel('Brand Model')\n",
    "plt.ylabel('Count')\n",
    "plt.title('Count of Brand Models')\n",
    "# Rotate x-axis labels for better readability\n",
    "ax.set_xticklabels(ax.get_xticklabels(), rotation=45, ha=\"right\")\n",
    "# Show the plot\n",
    "plt.show()"
   ]
  },
  {
   "cell_type": "markdown",
   "id": "9eca8292",
   "metadata": {},
   "source": [
    "* The most popular brandmodel in the dataset is **Acer**."
   ]
  },
  {
   "cell_type": "code",
   "execution_count": 203,
   "id": "d5c0af55",
   "metadata": {},
   "outputs": [
    {
     "data": {
      "text/html": [
       "<div>\n",
       "<style scoped>\n",
       "    .dataframe tbody tr th:only-of-type {\n",
       "        vertical-align: middle;\n",
       "    }\n",
       "\n",
       "    .dataframe tbody tr th {\n",
       "        vertical-align: top;\n",
       "    }\n",
       "\n",
       "    .dataframe thead th {\n",
       "        text-align: right;\n",
       "    }\n",
       "</style>\n",
       "<table border=\"1\" class=\"dataframe\">\n",
       "  <thead>\n",
       "    <tr style=\"text-align: right;\">\n",
       "      <th></th>\n",
       "      <th>name</th>\n",
       "      <th>price</th>\n",
       "      <th>reviews</th>\n",
       "      <th>rating</th>\n",
       "      <th>description</th>\n",
       "      <th>link</th>\n",
       "      <th>brandmodel</th>\n",
       "      <th>product_number</th>\n",
       "      <th>windows</th>\n",
       "    </tr>\n",
       "  </thead>\n",
       "  <tbody>\n",
       "    <tr>\n",
       "      <th>0</th>\n",
       "      <td>Packard 255 G2</td>\n",
       "      <td>416.99</td>\n",
       "      <td>2 reviews</td>\n",
       "      <td>2</td>\n",
       "      <td>15.6\", AMD E2-3800 1.3GHz, 4GB, 500GB, Windows...</td>\n",
       "      <td>https://webscraper.io/test-sites/e-commerce/st...</td>\n",
       "      <td>Packard</td>\n",
       "      <td>516</td>\n",
       "      <td>True</td>\n",
       "    </tr>\n",
       "    <tr>\n",
       "      <th>1</th>\n",
       "      <td>Aspire E1-510</td>\n",
       "      <td>306.99</td>\n",
       "      <td>2 reviews</td>\n",
       "      <td>3</td>\n",
       "      <td>15.6\", Pentium N3520 2.16GHz, 4GB, 500GB, Linux</td>\n",
       "      <td>https://webscraper.io/test-sites/e-commerce/st...</td>\n",
       "      <td>Aspire</td>\n",
       "      <td>517</td>\n",
       "      <td>False</td>\n",
       "    </tr>\n",
       "  </tbody>\n",
       "</table>\n",
       "</div>"
      ],
      "text/plain": [
       "             name   price    reviews  rating  \\\n",
       "0  Packard 255 G2  416.99  2 reviews       2   \n",
       "1   Aspire E1-510  306.99  2 reviews       3   \n",
       "\n",
       "                                         description  \\\n",
       "0  15.6\", AMD E2-3800 1.3GHz, 4GB, 500GB, Windows...   \n",
       "1    15.6\", Pentium N3520 2.16GHz, 4GB, 500GB, Linux   \n",
       "\n",
       "                                                link brandmodel  \\\n",
       "0  https://webscraper.io/test-sites/e-commerce/st...    Packard   \n",
       "1  https://webscraper.io/test-sites/e-commerce/st...     Aspire   \n",
       "\n",
       "  product_number  windows  \n",
       "0            516     True  \n",
       "1            517    False  "
      ]
     },
     "execution_count": 203,
     "metadata": {},
     "output_type": "execute_result"
    }
   ],
   "source": [
    "# how many products have Windows as operating system? This information is in the description column\n",
    "# create a 'windows' boolean column\n",
    "df['windows']=df.description.str.contains(\"Win\")\n",
    "df.head(2)"
   ]
  },
  {
   "cell_type": "code",
   "execution_count": 204,
   "id": "d9ba088a",
   "metadata": {
    "scrolled": true
   },
   "outputs": [
    {
     "data": {
      "text/plain": [
       "windows\n",
       "False    24\n",
       "True     93\n",
       "dtype: int64"
      ]
     },
     "execution_count": 204,
     "metadata": {},
     "output_type": "execute_result"
    }
   ],
   "source": [
    "# show the number of True and False\n",
    "df.groupby('windows').size()"
   ]
  },
  {
   "cell_type": "markdown",
   "id": "5992c895",
   "metadata": {},
   "source": [
    "* **93** products have Windows as operating system."
   ]
  },
  {
   "cell_type": "code",
   "execution_count": 205,
   "id": "a26321ec",
   "metadata": {},
   "outputs": [
    {
     "data": {
      "text/plain": [
       "windows\n",
       "False    24\n",
       "True     93\n",
       "dtype: int64"
      ]
     },
     "execution_count": 205,
     "metadata": {},
     "output_type": "execute_result"
    }
   ],
   "source": [
    "# how many products have non-Windows operating system?\n",
    "# show the number of True and False\n",
    "df.groupby('windows').size()"
   ]
  },
  {
   "cell_type": "markdown",
   "id": "c2548cdf",
   "metadata": {},
   "source": [
    "* **24** products have non-Windows operating system."
   ]
  },
  {
   "cell_type": "code",
   "execution_count": 206,
   "id": "374f6292",
   "metadata": {},
   "outputs": [
    {
     "data": {
      "text/html": [
       "<div>\n",
       "<style scoped>\n",
       "    .dataframe tbody tr th:only-of-type {\n",
       "        vertical-align: middle;\n",
       "    }\n",
       "\n",
       "    .dataframe tbody tr th {\n",
       "        vertical-align: top;\n",
       "    }\n",
       "\n",
       "    .dataframe thead th {\n",
       "        text-align: right;\n",
       "    }\n",
       "</style>\n",
       "<table border=\"1\" class=\"dataframe\">\n",
       "  <thead>\n",
       "    <tr style=\"text-align: right;\">\n",
       "      <th></th>\n",
       "      <th>name</th>\n",
       "      <th>price</th>\n",
       "      <th>reviews</th>\n",
       "      <th>rating</th>\n",
       "      <th>description</th>\n",
       "      <th>link</th>\n",
       "      <th>brandmodel</th>\n",
       "      <th>product_number</th>\n",
       "      <th>windows</th>\n",
       "    </tr>\n",
       "  </thead>\n",
       "  <tbody>\n",
       "    <tr>\n",
       "      <th>0</th>\n",
       "      <td>Packard 255 G2</td>\n",
       "      <td>416.99</td>\n",
       "      <td>2</td>\n",
       "      <td>2</td>\n",
       "      <td>15.6\", AMD E2-3800 1.3GHz, 4GB, 500GB, Windows...</td>\n",
       "      <td>https://webscraper.io/test-sites/e-commerce/st...</td>\n",
       "      <td>Packard</td>\n",
       "      <td>516</td>\n",
       "      <td>True</td>\n",
       "    </tr>\n",
       "    <tr>\n",
       "      <th>1</th>\n",
       "      <td>Aspire E1-510</td>\n",
       "      <td>306.99</td>\n",
       "      <td>2</td>\n",
       "      <td>3</td>\n",
       "      <td>15.6\", Pentium N3520 2.16GHz, 4GB, 500GB, Linux</td>\n",
       "      <td>https://webscraper.io/test-sites/e-commerce/st...</td>\n",
       "      <td>Aspire</td>\n",
       "      <td>517</td>\n",
       "      <td>False</td>\n",
       "    </tr>\n",
       "    <tr>\n",
       "      <th>2</th>\n",
       "      <td>ThinkPad T540p</td>\n",
       "      <td>1178.99</td>\n",
       "      <td>2</td>\n",
       "      <td>1</td>\n",
       "      <td>15.6\", Core i5-4200M, 4GB, 500GB, Win7 Pro 64bit</td>\n",
       "      <td>https://webscraper.io/test-sites/e-commerce/st...</td>\n",
       "      <td>ThinkPad</td>\n",
       "      <td>518</td>\n",
       "      <td>True</td>\n",
       "    </tr>\n",
       "    <tr>\n",
       "      <th>3</th>\n",
       "      <td>ProBook</td>\n",
       "      <td>739.99</td>\n",
       "      <td>8</td>\n",
       "      <td>4</td>\n",
       "      <td>14\", Core i5 2.6GHz, 4GB, 500GB, Win7 Pro 64bit</td>\n",
       "      <td>https://webscraper.io/test-sites/e-commerce/st...</td>\n",
       "      <td>ProBook</td>\n",
       "      <td>519</td>\n",
       "      <td>True</td>\n",
       "    </tr>\n",
       "    <tr>\n",
       "      <th>4</th>\n",
       "      <td>ThinkPad X240</td>\n",
       "      <td>1311.99</td>\n",
       "      <td>12</td>\n",
       "      <td>3</td>\n",
       "      <td>12.5\", Core i5-4300U, 8GB, 240GB SSD, Win7 Pro...</td>\n",
       "      <td>https://webscraper.io/test-sites/e-commerce/st...</td>\n",
       "      <td>ThinkPad</td>\n",
       "      <td>520</td>\n",
       "      <td>True</td>\n",
       "    </tr>\n",
       "  </tbody>\n",
       "</table>\n",
       "</div>"
      ],
      "text/plain": [
       "             name    price reviews  rating  \\\n",
       "0  Packard 255 G2   416.99       2       2   \n",
       "1   Aspire E1-510   306.99       2       3   \n",
       "2  ThinkPad T540p  1178.99       2       1   \n",
       "3         ProBook   739.99       8       4   \n",
       "4   ThinkPad X240  1311.99      12       3   \n",
       "\n",
       "                                         description  \\\n",
       "0  15.6\", AMD E2-3800 1.3GHz, 4GB, 500GB, Windows...   \n",
       "1    15.6\", Pentium N3520 2.16GHz, 4GB, 500GB, Linux   \n",
       "2   15.6\", Core i5-4200M, 4GB, 500GB, Win7 Pro 64bit   \n",
       "3    14\", Core i5 2.6GHz, 4GB, 500GB, Win7 Pro 64bit   \n",
       "4  12.5\", Core i5-4300U, 8GB, 240GB SSD, Win7 Pro...   \n",
       "\n",
       "                                                link brandmodel  \\\n",
       "0  https://webscraper.io/test-sites/e-commerce/st...    Packard   \n",
       "1  https://webscraper.io/test-sites/e-commerce/st...     Aspire   \n",
       "2  https://webscraper.io/test-sites/e-commerce/st...   ThinkPad   \n",
       "3  https://webscraper.io/test-sites/e-commerce/st...    ProBook   \n",
       "4  https://webscraper.io/test-sites/e-commerce/st...   ThinkPad   \n",
       "\n",
       "  product_number  windows  \n",
       "0            516     True  \n",
       "1            517    False  \n",
       "2            518     True  \n",
       "3            519     True  \n",
       "4            520     True  "
      ]
     },
     "execution_count": 206,
     "metadata": {},
     "output_type": "execute_result"
    }
   ],
   "source": [
    "# remove useless words in 'reviews' column\n",
    "df['reviews'] = df[\"reviews\"].str.replace(\" reviews\",\"\")\n",
    "df.head()"
   ]
  },
  {
   "cell_type": "code",
   "execution_count": 207,
   "id": "161ed2e2",
   "metadata": {},
   "outputs": [
    {
     "name": "stdout",
     "output_type": "stream",
     "text": [
      "<class 'pandas.core.frame.DataFrame'>\n",
      "RangeIndex: 117 entries, 0 to 116\n",
      "Data columns (total 9 columns):\n",
      " #   Column          Non-Null Count  Dtype  \n",
      "---  ------          --------------  -----  \n",
      " 0   name            117 non-null    object \n",
      " 1   price           117 non-null    float64\n",
      " 2   reviews         117 non-null    int64  \n",
      " 3   rating          117 non-null    int64  \n",
      " 4   description     117 non-null    object \n",
      " 5   link            117 non-null    object \n",
      " 6   brandmodel      117 non-null    object \n",
      " 7   product_number  117 non-null    object \n",
      " 8   windows         117 non-null    bool   \n",
      "dtypes: bool(1), float64(1), int64(2), object(5)\n",
      "memory usage: 7.6+ KB\n"
     ]
    }
   ],
   "source": [
    "# Each product received reviews (e.g., 2, 3). What is the average number of reviews received?\n",
    "# convert the price column to numeric & check the data types\n",
    "df['reviews']=pd.to_numeric(df['reviews'])\n",
    "df.info()"
   ]
  }
 ],
 "metadata": {
  "hide_input": false,
  "kernelspec": {
   "display_name": "Python 3 (ipykernel)",
   "language": "python",
   "name": "python3"
  },
  "language_info": {
   "codemirror_mode": {
    "name": "ipython",
    "version": 3
   },
   "file_extension": ".py",
   "mimetype": "text/x-python",
   "name": "python",
   "nbconvert_exporter": "python",
   "pygments_lexer": "ipython3",
   "version": "3.11.3"
  },
  "toc": {
   "base_numbering": "0",
   "nav_menu": {},
   "number_sections": false,
   "sideBar": true,
   "skip_h1_title": false,
   "title_cell": "Table of Contents",
   "title_sidebar": "Contents",
   "toc_cell": false,
   "toc_position": {
    "height": "calc(100% - 180px)",
    "left": "10px",
    "top": "150px",
    "width": "312px"
   },
   "toc_section_display": true,
   "toc_window_display": true
  },
  "varInspector": {
   "cols": {
    "lenName": 16,
    "lenType": 16,
    "lenVar": 40
   },
   "kernels_config": {
    "python": {
     "delete_cmd_postfix": "",
     "delete_cmd_prefix": "del ",
     "library": "var_list.py",
     "varRefreshCmd": "print(var_dic_list())"
    },
    "r": {
     "delete_cmd_postfix": ") ",
     "delete_cmd_prefix": "rm(",
     "library": "var_list.r",
     "varRefreshCmd": "cat(var_dic_list()) "
    }
   },
   "types_to_exclude": [
    "module",
    "function",
    "builtin_function_or_method",
    "instance",
    "_Feature"
   ],
   "window_display": false
  }
 },
 "nbformat": 4,
 "nbformat_minor": 5
}
